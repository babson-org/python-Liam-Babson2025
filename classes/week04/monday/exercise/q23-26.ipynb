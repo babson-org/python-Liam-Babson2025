{
  "cells": [
    {
      "cell_type": "markdown",
      "metadata": {},
      "source": [
        "# 🧪 Lab 1 Reinforcement Exercises\n",
        "These exercises build on Lab 1 concepts: input handling, string manipulation, control flow, and basic algorithms.\n",
        "Each problem includes a full description and a code cell for your solution."
      ]
    },
    {
      "cell_type": "code",
      "execution_count": null,
      "metadata": {},
      "outputs": [],
      "source": []
    },
    {
      "cell_type": "markdown",
      "metadata": {},
      "source": [
        "## 🟩 Exercise 26: Longest Word Finder\n",
        "**Problem:** Ask the user for a sentence. Identify and print the longest word. Strip punctuation from words before comparing lengths.\n",
        "\n",
        "**Input:**\n",
        "- A sentence with words and punctuation\n",
        "\n",
        "**Output:**\n",
        "- The longest word (punctuation removed)"
      ]
    },
    {
      "cell_type": "code",
      "execution_count": 1,
      "metadata": {},
      "outputs": [
        {
          "ename": "KeyboardInterrupt",
          "evalue": "Interrupted by user",
          "output_type": "error",
          "traceback": [
            "\u001b[0;31m---------------------------------------------------------------------------\u001b[0m",
            "\u001b[0;31mKeyboardInterrupt\u001b[0m                         Traceback (most recent call last)",
            "Cell \u001b[0;32mIn[1], line 1\u001b[0m\n\u001b[0;32m----> 1\u001b[0m txt \u001b[38;5;241m=\u001b[39m \u001b[38;5;28;43minput\u001b[39;49m\u001b[43m(\u001b[49m\u001b[38;5;124;43m\"\u001b[39;49m\u001b[38;5;124;43mEnter a block of text: \u001b[39;49m\u001b[38;5;124;43m\"\u001b[39;49m\u001b[43m)\u001b[49m\n\u001b[1;32m      2\u001b[0m words \u001b[38;5;241m=\u001b[39m txt\u001b[38;5;241m.\u001b[39msplit()\n\u001b[1;32m      3\u001b[0m longest_word \u001b[38;5;241m=\u001b[39m \u001b[38;5;28mmax\u001b[39m(words, key\u001b[38;5;241m=\u001b[39m\u001b[38;5;28mlen\u001b[39m)\n",
            "File \u001b[0;32m/workspaces/python-Liam-Babson2025/venv/lib/python3.10/site-packages/ipykernel/kernelbase.py:1275\u001b[0m, in \u001b[0;36mKernel.raw_input\u001b[0;34m(self, prompt)\u001b[0m\n\u001b[1;32m   1273\u001b[0m     msg \u001b[38;5;241m=\u001b[39m \u001b[38;5;124m\"\u001b[39m\u001b[38;5;124mraw_input was called, but this frontend does not support input requests.\u001b[39m\u001b[38;5;124m\"\u001b[39m\n\u001b[1;32m   1274\u001b[0m     \u001b[38;5;28;01mraise\u001b[39;00m StdinNotImplementedError(msg)\n\u001b[0;32m-> 1275\u001b[0m \u001b[38;5;28;01mreturn\u001b[39;00m \u001b[38;5;28;43mself\u001b[39;49m\u001b[38;5;241;43m.\u001b[39;49m\u001b[43m_input_request\u001b[49m\u001b[43m(\u001b[49m\n\u001b[1;32m   1276\u001b[0m \u001b[43m    \u001b[49m\u001b[38;5;28;43mstr\u001b[39;49m\u001b[43m(\u001b[49m\u001b[43mprompt\u001b[49m\u001b[43m)\u001b[49m\u001b[43m,\u001b[49m\n\u001b[1;32m   1277\u001b[0m \u001b[43m    \u001b[49m\u001b[38;5;28;43mself\u001b[39;49m\u001b[38;5;241;43m.\u001b[39;49m\u001b[43m_parent_ident\u001b[49m\u001b[43m[\u001b[49m\u001b[38;5;124;43m\"\u001b[39;49m\u001b[38;5;124;43mshell\u001b[39;49m\u001b[38;5;124;43m\"\u001b[39;49m\u001b[43m]\u001b[49m\u001b[43m,\u001b[49m\n\u001b[1;32m   1278\u001b[0m \u001b[43m    \u001b[49m\u001b[38;5;28;43mself\u001b[39;49m\u001b[38;5;241;43m.\u001b[39;49m\u001b[43mget_parent\u001b[49m\u001b[43m(\u001b[49m\u001b[38;5;124;43m\"\u001b[39;49m\u001b[38;5;124;43mshell\u001b[39;49m\u001b[38;5;124;43m\"\u001b[39;49m\u001b[43m)\u001b[49m\u001b[43m,\u001b[49m\n\u001b[1;32m   1279\u001b[0m \u001b[43m    \u001b[49m\u001b[43mpassword\u001b[49m\u001b[38;5;241;43m=\u001b[39;49m\u001b[38;5;28;43;01mFalse\u001b[39;49;00m\u001b[43m,\u001b[49m\n\u001b[1;32m   1280\u001b[0m \u001b[43m\u001b[49m\u001b[43m)\u001b[49m\n",
            "File \u001b[0;32m/workspaces/python-Liam-Babson2025/venv/lib/python3.10/site-packages/ipykernel/kernelbase.py:1320\u001b[0m, in \u001b[0;36mKernel._input_request\u001b[0;34m(self, prompt, ident, parent, password)\u001b[0m\n\u001b[1;32m   1317\u001b[0m \u001b[38;5;28;01mexcept\u001b[39;00m \u001b[38;5;167;01mKeyboardInterrupt\u001b[39;00m:\n\u001b[1;32m   1318\u001b[0m     \u001b[38;5;66;03m# re-raise KeyboardInterrupt, to truncate traceback\u001b[39;00m\n\u001b[1;32m   1319\u001b[0m     msg \u001b[38;5;241m=\u001b[39m \u001b[38;5;124m\"\u001b[39m\u001b[38;5;124mInterrupted by user\u001b[39m\u001b[38;5;124m\"\u001b[39m\n\u001b[0;32m-> 1320\u001b[0m     \u001b[38;5;28;01mraise\u001b[39;00m \u001b[38;5;167;01mKeyboardInterrupt\u001b[39;00m(msg) \u001b[38;5;28;01mfrom\u001b[39;00m\u001b[38;5;250m \u001b[39m\u001b[38;5;28;01mNone\u001b[39;00m\n\u001b[1;32m   1321\u001b[0m \u001b[38;5;28;01mexcept\u001b[39;00m \u001b[38;5;167;01mException\u001b[39;00m:\n\u001b[1;32m   1322\u001b[0m     \u001b[38;5;28mself\u001b[39m\u001b[38;5;241m.\u001b[39mlog\u001b[38;5;241m.\u001b[39mwarning(\u001b[38;5;124m\"\u001b[39m\u001b[38;5;124mInvalid Message:\u001b[39m\u001b[38;5;124m\"\u001b[39m, exc_info\u001b[38;5;241m=\u001b[39m\u001b[38;5;28;01mTrue\u001b[39;00m)\n",
            "\u001b[0;31mKeyboardInterrupt\u001b[0m: Interrupted by user"
          ]
        }
      ],
      "source": [
        "txt = input(\"Enter a block of text: \")\n",
        "words = txt.split()\n",
        "longest_word = max(words, key=len)\n",
        "print(longest_word)"
      ]
    },
    {
      "cell_type": "markdown",
      "metadata": {},
      "source": [
        "## 🟩 Exercise 27: Sentence Type Breakdown\n",
        "**Problem:** Ask the user for a block of text. Count how many sentences end with `.`, `?`, and `!`. Display a breakdown of sentence types.\n",
        "\n",
        "**Input:**\n",
        "- A block of text\n",
        "\n",
        "**Output:**\n",
        "- Total number of sentences\n",
        "- Number of declarative (.), interrogative (?), and exclamatory (!) sentences"
      ]
    },
    {
      "cell_type": "code",
      "execution_count": 2,
      "metadata": {},
      "outputs": [
        {
          "ename": "SyntaxError",
          "evalue": "invalid syntax. Perhaps you forgot a comma? (3750519945.py, line 13)",
          "output_type": "error",
          "traceback": [
            "\u001b[0;36m  Cell \u001b[0;32mIn[2], line 13\u001b[0;36m\u001b[0m\n\u001b[0;31m    print(f\"Decalrative: \"{declarative})\u001b[0m\n\u001b[0m          ^\u001b[0m\n\u001b[0;31mSyntaxError\u001b[0m\u001b[0;31m:\u001b[0m invalid syntax. Perhaps you forgot a comma?\n"
          ]
        }
      ],
      "source": [
        "txt = input(\"Enter a block of text: \")\n",
        "declarative = 0\n",
        "interrogative = 0\n",
        "exclamatory = 0\n",
        "\n",
        "for i in txt:\n",
        "    if i == \".\":\n",
        "        declarative += 1\n",
        "    elif i == \"?\":\n",
        "        interrogative += 1\n",
        "    elif i == \"!\":\n",
        "        exclamatory += 1  \n",
        "\n",
        "print(f\"Declarative: {declarative}\")     \n",
        "print(f\"Interrogative: {interrogative}\")  \n",
        "print(f\"Exclamatory: {exclamatory}\")    \n",
        "\n",
        "\n",
        "\n",
        "\n"
      ]
    },
    {
      "cell_type": "markdown",
      "metadata": {},
      "source": [
        "## Exercise 28: Caesar Cipher Key Finder\n",
        "\n",
        "Objective: Write a program to decode a message when the key is unknown, using reasoning instead of trying all shifts.\n",
        "\n",
        "Scenario:\n",
        "-    You receive an encrypted message:\n",
        "-    Encrypted message: 'KHOOR ZRUOG'\n",
        "-    Hint: The first word is 'HELLO'\n",
        "  \n",
        "  \n",
        "Tasks:\n",
        "-    Identify the shift key\n",
        "-    Use the hint ('HELLO') to determine the number of positions the letters were shifted.\n",
        "-    Think: 'H' ? 'K', what shift was applied?\n",
        "-    Decode the full message\n",
        "-    Write a function decode_caesar(message, key) that takes the encrypted message and the key you found.\n",
        "-    Print the decrypted message."
      ]
    },
    {
      "cell_type": "code",
      "execution_count": null,
      "metadata": {},
      "outputs": [],
      "source": [
        "def decode_caesar(message,key):\n",
        "    key = ord(message[0])-ord(\"H\")\n",
        "    decoded =\"\"\n",
        "    \n",
        "    for char in message:\n",
        "        if char.isalpha():\n",
        "            if char.isupper:\n",
        "                decrypt = chr((ord(char)-ord(\"A\")- key) % 26 + ord(\"A\"))\n",
        "            elif char.islower:\n",
        "                decrypt = chr((ord(char)-ord(\"a\")- key) % 26 + ord(\"a\"))\n",
        "            decoded += decrypt\n",
        "        else: \n",
        "            decoded += char\n",
        "\n",
        "    print(decoded)\n",
        "       \n",
        "\n",
        "\n",
        "\n",
        "\n",
        "\n",
        "\n",
        "    "
      ]
    }
  ],
  "metadata": {
    "kernelspec": {
      "display_name": "venv",
      "language": "python",
      "name": "python3"
    },
    "language_info": {
      "codemirror_mode": {
        "name": "ipython",
        "version": 3
      },
      "file_extension": ".py",
      "mimetype": "text/x-python",
      "name": "python",
      "nbconvert_exporter": "python",
      "pygments_lexer": "ipython3",
      "version": "3.10.18"
    }
  },
  "nbformat": 4,
  "nbformat_minor": 2
}
